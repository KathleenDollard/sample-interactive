{
 "cells": [
  {
   "cell_type": "markdown",
   "metadata": {},
   "source": [
    "# Pug the Wizard"
   ]
  },
  {
   "cell_type": "markdown",
   "metadata": {},
   "source": [
    "I think notebooks have tremendous potential in project documentation, because they allow you to combine the full power of markdown (including Mermaid) and code under source control with meaningful diffs.\n",
    "\n",
    "This may be particularly valuable for keeping the documentation you use for new folks to the project up to date. For example, you can document your API with stubs to ensure your examples are correct during design, then later ensure your examples run against your project.\n",
    "\n",
    "This area is ripe for creative thinking, so it would be great if you shared what you try out!\n",
    "\n",
    "This notebook is a silly sample, that might help you get started. \n",
    "\n",
    "Pug is a character from the Riftwar Saga by Raymond E. Feist. I think Pug is a pretty awesome name for a wizars"
   ]
  },
  {
   "cell_type": "markdown",
   "metadata": {},
   "source": [
    "## Notebook Setup"
   ]
  },
  {
   "cell_type": "markdown",
   "metadata": {},
   "source": [
    "Put a code block with the magic commands (like references) your notebook will use"
   ]
  },
  {
   "cell_type": "markdown",
   "metadata": {},
   "source": [
    "## Overview"
   ]
  },
  {
   "cell_type": "markdown",
   "metadata": {},
   "source": [
    "This is an appication for the wizard school."
   ]
  },
  {
   "cell_type": "markdown",
   "metadata": {},
   "source": [
    "### Flowchart"
   ]
  },
  {
   "cell_type": "markdown",
   "metadata": {},
   "source": [
    "The path from candidate to master (I made this up)"
   ]
  },
  {
   "cell_type": "markdown",
   "metadata": {},
   "source": [
    "```mermaid\n",
    "flowchart\n",
    "  Candidate --> Student -->Teacher -->Master\n",
    "```"
   ]
  },
  {
   "cell_type": "markdown",
   "metadata": {},
   "source": [
    "Add class, sequence and other diagrams as desired"
   ]
  },
  {
   "cell_type": "markdown",
   "metadata": {},
   "source": [
    "## API"
   ]
  },
  {
   "cell_type": "markdown",
   "metadata": {},
   "source": [
    "### Candidate"
   ]
  },
  {
   "cell_type": "code",
   "execution_count": 1,
   "metadata": {
    "dotnet_interactive": {
     "language": "csharp"
    },
    "polyglot_notebook": {
     "kernelName": "csharp"
    },
    "vscode": {
     "languageId": "polyglot-notebook"
    }
   },
   "outputs": [],
   "source": [
    "public class Candidate\n",
    "{ \n",
    "   int PersonId{get;set;}\n",
    "   string SurName{get;set;}\n",
    "   string GivenName{get;set;}\n",
    "   IEnumerable<decimal> GetGrades () { return  null; }\n",
    "}"
   ]
  },
  {
   "cell_type": "markdown",
   "metadata": {},
   "source": [
    "### Grade\n"
   ]
  },
  {
   "cell_type": "code",
   "execution_count": 6,
   "metadata": {
    "dotnet_interactive": {
     "language": "csharp"
    },
    "polyglot_notebook": {
     "kernelName": "csharp"
    },
    "vscode": {
     "languageId": "polyglot-notebook"
    }
   },
   "outputs": [],
   "source": [
    "public class Grade\n",
    "{\n",
    "   int PersonId{get;set;}\n",
    "   int CourseId{get;set;}\n",
    "   DateTime Date{get;set;}\n",
    "   decimal Value{get;set;}\n",
    "}"
   ]
  },
  {
   "cell_type": "markdown",
   "metadata": {},
   "source": [
    "## Tests"
   ]
  },
  {
   "cell_type": "markdown",
   "metadata": {},
   "source": [
    "List the kinds of tests you plan to create:\n",
    "\n",
    "[ ] Create a Candidate\n",
    "\n",
    "[ ] Enter grades for candidates\n",
    "\n",
    "[ ] Elevate a candidate to a Student **Perhaps our API should change**\n",
    "\n"
   ]
  },
  {
   "cell_type": "markdown",
   "metadata": {},
   "source": [
    "## Algorithms and other notes"
   ]
  },
  {
   "cell_type": "markdown",
   "metadata": {},
   "source": []
  },
  {
   "cell_type": "markdown",
   "metadata": {},
   "source": [
    "Include drawing and code for key elements. \n",
    "\n",
    "Code here can run."
   ]
  }
 ],
 "metadata": {
  "language_info": {
   "name": "csharp"
  }
 },
 "nbformat": 4,
 "nbformat_minor": 2
}

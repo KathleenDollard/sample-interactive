{
 "cells": [
  {
   "cell_type": "markdown",
   "metadata": {},
   "source": [
    "# Polyglot Notebook Overview\n",
    "\n",
    "Markdown lets me include notes on what I am doing."
   ]
  },
  {
   "cell_type": "markdown",
   "metadata": {},
   "source": [
    "## Playground"
   ]
  },
  {
   "cell_type": "markdown",
   "metadata": {},
   "source": [
    "### Running code"
   ]
  },
  {
   "cell_type": "markdown",
   "metadata": {},
   "source": [
    "I can use normal C# code, with code coloration and autocomplete:"
   ]
  },
  {
   "cell_type": "code",
   "execution_count": 2,
   "metadata": {
    "dotnet_interactive": {
     "language": "csharp"
    },
    "polyglot_notebook": {
     "kernelName": "csharp"
    }
   },
   "outputs": [
    {
     "name": "stdout",
     "output_type": "stream",
     "text": [
      "42\r\n"
     ]
    }
   ],
   "source": [
    "var x = 42;\n",
    "Console.WriteLine(x);"
   ]
  },
  {
   "cell_type": "markdown",
   "metadata": {},
   "source": [
    "To run this code, I can push the run arrow on the left.\n",
    "\n",
    "Cells can be run in any order."
   ]
  },
  {
   "cell_type": "markdown",
   "metadata": {},
   "source": [
    "### Outputting values\n",
    "\n",
    "I can also call .NET Interactive specific code to output values:"
   ]
  },
  {
   "cell_type": "code",
   "execution_count": 4,
   "metadata": {
    "dotnet_interactive": {
     "language": "csharp"
    },
    "polyglot_notebook": {
     "kernelName": "csharp"
    }
   },
   "outputs": [
    {
     "data": {
      "text/html": [
       "<div class=\"dni-plaintext\"><pre>42</pre></div><style>\r\n",
       ".dni-code-hint {\r\n",
       "    font-style: italic;\r\n",
       "    overflow: hidden;\r\n",
       "    white-space: nowrap;\r\n",
       "}\r\n",
       ".dni-treeview {\r\n",
       "    white-space: nowrap;\r\n",
       "}\r\n",
       ".dni-treeview td {\r\n",
       "    vertical-align: top;\r\n",
       "    text-align: start;\r\n",
       "}\r\n",
       "details.dni-treeview {\r\n",
       "    padding-left: 1em;\r\n",
       "}\r\n",
       "table td {\r\n",
       "    text-align: start;\r\n",
       "}\r\n",
       "table tr { \r\n",
       "    vertical-align: top; \r\n",
       "    margin: 0em 0px;\r\n",
       "}\r\n",
       "table tr td pre \r\n",
       "{ \r\n",
       "    vertical-align: top !important; \r\n",
       "    margin: 0em 0px !important;\r\n",
       "} \r\n",
       "table th {\r\n",
       "    text-align: start;\r\n",
       "}\r\n",
       "</style>"
      ]
     },
     "metadata": {},
     "output_type": "display_data"
    }
   ],
   "source": [
    "display(x);"
   ]
  },
  {
   "cell_type": "markdown",
   "metadata": {},
   "source": [
    "`display` accesses the value for display, and allows updating of the displayed value, as well as special display for known types. The output of `Console.WriteLine` is just a review of the normal output for an array."
   ]
  },
  {
   "cell_type": "code",
   "execution_count": 11,
   "metadata": {
    "dotnet_interactive": {
     "language": "csharp"
    },
    "polyglot_notebook": {
     "kernelName": "csharp"
    }
   },
   "outputs": [
    {
     "data": {
      "text/plain": [
       "[ apple, orange, coconut, pear, peach ]"
      ]
     },
     "metadata": {},
     "output_type": "display_data"
    },
    {
     "name": "stdout",
     "output_type": "stream",
     "text": [
      "System.String[]\r\n"
     ]
    }
   ],
   "source": [
    "var fruitGreeting = display(\"Hello, let's get some fruit\");\n",
    "var fruits = new [] {\"apple\", \"orange\", \"coconut\", \"pear\", \"peach\"};\n",
    "\n",
    "foreach (var fruit in fruits)\n",
    "{\n",
    "    System.Threading.Thread.Sleep(1000);\n",
    "    fruitGreeting.Update($\"I have one {fruit}\");\n",
    "}\n",
    "System.Threading.Thread.Sleep(1000);\n",
    "\n",
    "fruitGreeting.Update(fruits);\n",
    "Console.WriteLine(fruits);"
   ]
  },
  {
   "cell_type": "markdown",
   "metadata": {},
   "source": [
    "You can also output to with an error display if you output to Console.Error:"
   ]
  },
  {
   "cell_type": "code",
   "execution_count": 15,
   "metadata": {
    "dotnet_interactive": {
     "language": "csharp"
    },
    "polyglot_notebook": {
     "kernelName": "csharp"
    }
   },
   "outputs": [
    {
     "name": "stdout",
     "output_type": "stream",
     "text": [
      "Oh dear\r\n"
     ]
    },
    {
     "name": "stderr",
     "output_type": "stream",
     "text": [
      "I ate too much fruit!\r\n"
     ]
    }
   ],
   "source": [
    "Console.Out.WriteLine(\"Oh dear\");\n",
    "Console.Error.WriteLine(\"I ate too much fruit!\");\n",
    "\n"
   ]
  },
  {
   "cell_type": "markdown",
   "metadata": {},
   "source": [
    "### Formatters"
   ]
  },
  {
   "cell_type": "markdown",
   "metadata": {},
   "source": [
    ".NET Interactive uses MIME types, with the default type being `text/html`.\n",
    "\n",
    "Formatters are available via a NuGet package so you can use them for other uses. \n",
    "\n",
    "For example, type instances are displayed in a table:"
   ]
  },
  {
   "cell_type": "code",
   "execution_count": null,
   "metadata": {
    "dotnet_interactive": {
     "language": "csharp"
    },
    "polyglot_notebook": {
     "kernelName": "csharp"
    }
   },
   "outputs": [],
   "source": [
    "using System.Drawing;\n",
    "\n",
    "var rectangle = new Rectangle\n",
    "{\n",
    "    Height = 20,\n",
    "    Width = 40\n",
    "};\n",
    "\n",
    "display(rectangle);\n",
    "\n",
    "rectangle.Display();"
   ]
  },
  {
   "cell_type": "markdown",
   "metadata": {},
   "source": [
    "You can specify other MIME types:"
   ]
  },
  {
   "cell_type": "code",
   "execution_count": 33,
   "metadata": {
    "dotnet_interactive": {
     "language": "csharp"
    },
    "polyglot_notebook": {
     "kernelName": "csharp"
    }
   },
   "outputs": [
    {
     "data": {
      "text/plain": [
       "Rectangle\r\n",
       "      Location: Point\r\n",
       "        IsEmpty: True\r\n",
       "        X: 0\r\n",
       "        Y: 0\r\n",
       "      Size: Size\r\n",
       "        IsEmpty: False\r\n",
       "        Width: 40\r\n",
       "        Height: 20\r\n",
       "      X: 0\r\n",
       "      Y: 0\r\n",
       "      Width: 40\r\n",
       "      Height: 20\r\n",
       "      Left: 0\r\n",
       "      Top: 0\r\n",
       "      Right: 40\r\n",
       "      Bottom: 20\r\n",
       "      IsEmpty: False"
      ]
     },
     "metadata": {},
     "output_type": "display_data"
    }
   ],
   "source": [
    "rectangle.Display(\"text/plain\");"
   ]
  },
  {
   "cell_type": "code",
   "execution_count": 34,
   "metadata": {
    "dotnet_interactive": {
     "language": "csharp"
    },
    "polyglot_notebook": {
     "kernelName": "csharp"
    }
   },
   "outputs": [
    {
     "data": {
      "application/json": {
       "Bottom": 20,
       "Height": 20,
       "IsEmpty": false,
       "Left": 0,
       "Location": {
        "IsEmpty": true,
        "X": 0,
        "Y": 0
       },
       "Right": 40,
       "Size": {
        "Height": 20,
        "IsEmpty": false,
        "Width": 40
       },
       "Top": 0,
       "Width": 40,
       "X": 0,
       "Y": 0
      }
     },
     "metadata": {},
     "output_type": "display_data"
    }
   ],
   "source": [
    "rectangle.Display(\"application/json\");"
   ]
  },
  {
   "cell_type": "markdown",
   "metadata": {},
   "source": [
    "You can get fancy with libraries like Plotly from the Jupyter ecosystem. You register these per type. For example:"
   ]
  },
  {
   "cell_type": "code",
   "execution_count": 39,
   "metadata": {
    "dotnet_interactive": {
     "language": "csharp"
    },
    "polyglot_notebook": {
     "kernelName": "csharp"
    }
   },
   "outputs": [
    {
     "data": {
      "text/html": [
       "<svg width=\"100\" height=\"100\">\r\n",
       "  <rect width=\"40\" \r\n",
       "        height=\"20\" \r\n",
       "        style=\"fill:rgb(0,255,200)\" />\r\n",
       "</svg>"
      ]
     },
     "metadata": {},
     "output_type": "display_data"
    },
    {
     "data": {
      "text/html": [
       "<svg width=\"100\" height=\"100\">\r\n",
       "  <rect width=\"250\" \r\n",
       "        height=\"20\" \r\n",
       "        style=\"fill:rgb(0,255,200)\" />\r\n",
       "</svg>"
      ]
     },
     "metadata": {},
     "output_type": "display_data"
    },
    {
     "data": {
      "text/plain": [
       "Rectangle\r\n",
       "      Location: Point\r\n",
       "        IsEmpty: True\r\n",
       "        X: 0\r\n",
       "        Y: 0\r\n",
       "      Size: Size\r\n",
       "        IsEmpty: False\r\n",
       "        Width: 250\r\n",
       "        Height: 20\r\n",
       "      X: 0\r\n",
       "      Y: 0\r\n",
       "      Width: 250\r\n",
       "      Height: 20\r\n",
       "      Left: 0\r\n",
       "      Top: 0\r\n",
       "      Right: 250\r\n",
       "      Bottom: 20\r\n",
       "      IsEmpty: False"
      ]
     },
     "metadata": {},
     "output_type": "display_data"
    }
   ],
   "source": [
    "using Microsoft.DotNet.Interactive.Formatting;\n",
    "\n",
    "Formatter.Register<Rectangle>(\n",
    "    rect => $\"\"\"\n",
    "         <svg width=\"100\" height=\"100\">\n",
    "           <rect width=\"{rect.Width}\" \n",
    "                 height=\"{rect.Height}\" \n",
    "                 style=\"fill:rgb(0,255,200)\" />\n",
    "         </svg>\n",
    "         \"\"\", \n",
    "    mimeType: \"text/html\");\n",
    "\n",
    "rectangle.Width = 40;\n",
    "rectangle.Display();\n",
    "\n",
    "rectangle.Width = 250;\n",
    "rectangle.Display();\n",
    "\n",
    "rectangle.Display(\"text/plain\"); // shows it is only for MIME type"
   ]
  },
  {
   "cell_type": "markdown",
   "metadata": {},
   "source": [
    "You can find more at https://github.com/dotnet/interactive/blob/main/docs/formatting.md"
   ]
  },
  {
   "cell_type": "markdown",
   "metadata": {},
   "source": [
    "#### HTML"
   ]
  },
  {
   "cell_type": "markdown",
   "metadata": {},
   "source": []
  },
  {
   "cell_type": "code",
   "execution_count": 4,
   "metadata": {
    "dotnet_interactive": {
     "language": "csharp"
    },
    "polyglot_notebook": {
     "kernelName": "csharp"
    }
   },
   "outputs": [
    {
     "data": {
      "text/html": [
       "<div class=\"dni-plaintext\"><pre>&lt;p style=&quot;font-family:Impact;color:blue;font-size:40px&quot;&gt;This is blue.&lt;/p&gt;</pre></div><style>\r\n",
       ".dni-code-hint {\r\n",
       "    font-style: italic;\r\n",
       "    overflow: hidden;\r\n",
       "    white-space: nowrap;\r\n",
       "}\r\n",
       ".dni-treeview {\r\n",
       "    white-space: nowrap;\r\n",
       "}\r\n",
       ".dni-treeview td {\r\n",
       "    vertical-align: top;\r\n",
       "    text-align: start;\r\n",
       "}\r\n",
       "details.dni-treeview {\r\n",
       "    padding-left: 1em;\r\n",
       "}\r\n",
       "table td {\r\n",
       "    text-align: start;\r\n",
       "}\r\n",
       "table tr { \r\n",
       "    vertical-align: top; \r\n",
       "    margin: 0em 0px;\r\n",
       "}\r\n",
       "table tr td pre \r\n",
       "{ \r\n",
       "    vertical-align: top !important; \r\n",
       "    margin: 0em 0px !important;\r\n",
       "} \r\n",
       "table th {\r\n",
       "    text-align: start;\r\n",
       "}\r\n",
       "</style>"
      ]
     },
     "metadata": {},
     "output_type": "display_data"
    },
    {
     "data": {
      "text/html": [
       "<p style=\"font-family:Impact;color:blue;font-size:40px\">This is blue.</p>"
      ]
     },
     "metadata": {},
     "output_type": "display_data"
    }
   ],
   "source": [
    "using Microsoft.DotNet.Interactive.Formatting;\n",
    "\n",
    "var text = \"\"\"<p style=\"font-family:Impact;color:blue;font-size:40px\">This is blue.</p>\"\"\";\n",
    "text.Display(\"text/html\");\n",
    "text.ToHtmlContent().Display()"
   ]
  },
  {
   "cell_type": "markdown",
   "metadata": {},
   "source": [
    "### Input values"
   ]
  },
  {
   "cell_type": "markdown",
   "metadata": {},
   "source": [
    "How boring would it be not to be able to interact with a notebook"
   ]
  },
  {
   "cell_type": "code",
   "execution_count": 24,
   "metadata": {
    "dotnet_interactive": {
     "language": "csharp"
    },
    "polyglot_notebook": {
     "kernelName": "csharp"
    }
   },
   "outputs": [
    {
     "data": {
      "text/plain": [
       "45"
      ]
     },
     "metadata": {},
     "output_type": "display_data"
    }
   ],
   "source": [
    "#!set --value @input:\"Enter your favorite number\" --name xInput \n",
    "xInput"
   ]
  },
  {
   "cell_type": "markdown",
   "metadata": {},
   "source": [
    "Types can have input dialogs - such as a file dialog:"
   ]
  },
  {
   "cell_type": "code",
   "execution_count": 27,
   "metadata": {
    "dotnet_interactive": {
     "language": "csharp"
    },
    "polyglot_notebook": {
     "kernelName": "csharp"
    }
   },
   "outputs": [
    {
     "ename": "Error",
     "evalue": "Option '--name' is required.\r\nFile does not exist: '--name'.\r\nUnrecognized command or argument 'xFile'.",
     "output_type": "error",
     "traceback": [
      "Option '--name' is required.\r\n",
      "File does not exist: '--name'.\r\n",
      "Unrecognized command or argument 'xFile'."
     ]
    }
   ],
   "source": [
    "#!value --from-file @input:\"Enter your favorite file\" --name xFile\n",
    "xFile"
   ]
  },
  {
   "cell_type": "code",
   "execution_count": null,
   "metadata": {
    "dotnet_interactive": {
     "language": "csharp"
    },
    "polyglot_notebook": {
     "kernelName": "csharp"
    }
   },
   "outputs": [],
   "source": [
    "using Microsoft.DotNet.Interactive;\n",
    "\n",
    "var fileName = await Kernel.GetInputAsync(\"Pick a file.\",\n",
    "    typeHint: \"file\");\n",
    "fileName"
   ]
  },
  {
   "cell_type": "markdown",
   "metadata": {},
   "source": [
    "Of course, sometimes you need to hide secrets in your input. One way is via the password API:"
   ]
  },
  {
   "cell_type": "code",
   "execution_count": 31,
   "metadata": {
    "dotnet_interactive": {
     "language": "csharp"
    },
    "polyglot_notebook": {
     "kernelName": "csharp"
    }
   },
   "outputs": [
    {
     "data": {
      "text/html": [
       "<details open=\"open\" class=\"dni-treeview\"><summary><span class=\"dni-code-hint\"><code>************</code></span></summary><div><table><thead><tr></tr></thead><tbody></tbody></table></div></details><style>\r\n",
       ".dni-code-hint {\r\n",
       "    font-style: italic;\r\n",
       "    overflow: hidden;\r\n",
       "    white-space: nowrap;\r\n",
       "}\r\n",
       ".dni-treeview {\r\n",
       "    white-space: nowrap;\r\n",
       "}\r\n",
       ".dni-treeview td {\r\n",
       "    vertical-align: top;\r\n",
       "    text-align: start;\r\n",
       "}\r\n",
       "details.dni-treeview {\r\n",
       "    padding-left: 1em;\r\n",
       "}\r\n",
       "table td {\r\n",
       "    text-align: start;\r\n",
       "}\r\n",
       "table tr { \r\n",
       "    vertical-align: top; \r\n",
       "    margin: 0em 0px;\r\n",
       "}\r\n",
       "table tr td pre \r\n",
       "{ \r\n",
       "    vertical-align: top !important; \r\n",
       "    margin: 0em 0px !important;\r\n",
       "} \r\n",
       "table th {\r\n",
       "    text-align: start;\r\n",
       "}\r\n",
       "</style>"
      ]
     },
     "metadata": {},
     "output_type": "display_data"
    }
   ],
   "source": [
    "using Microsoft.DotNet.Interactive;\n",
    "\n",
    "var password = await Kernel.GetPasswordAsync(\"Password.\");\n",
    "password"
   ]
  },
  {
   "cell_type": "markdown",
   "metadata": {},
   "source": [
    "## Mermaid"
   ]
  },
  {
   "cell_type": "markdown",
   "metadata": {},
   "source": [
    "https://mermaid.js.org/\n",
    "\n",
    "I am using https://marketplace.visualstudio.com/items?itemName=bierner.markdown-mermaid"
   ]
  },
  {
   "cell_type": "markdown",
   "metadata": {},
   "source": []
  }
 ],
 "metadata": {
  "kernelspec": {
   "display_name": ".NET (C#)",
   "language": "C#",
   "name": ".net-csharp"
  },
  "language_info": {
   "name": "polyglot-notebook"
  },
  "polyglot_notebook": {
   "kernelInfo": {
    "defaultKernelName": "csharp",
    "items": [
     {
      "aliases": [],
      "languageName": "csharp",
      "name": "csharp"
     }
    ]
   }
  }
 },
 "nbformat": 4,
 "nbformat_minor": 2
}
